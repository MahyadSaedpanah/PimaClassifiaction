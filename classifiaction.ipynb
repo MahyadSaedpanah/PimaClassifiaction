{
 "cells": [
  {
   "cell_type": "code",
   "execution_count": 13,
   "id": "091be8ca",
   "metadata": {},
   "outputs": [],
   "source": [
    "import pandas as pd\n",
    "import numpy as np\n",
    "from sklearn.cluster import KMeans, MiniBatchKMeans, Birch, SpectralClustering\n",
    "from sklearn.neighbors import KNeighborsClassifier\n",
    "from sklearn.model_selection import train_test_split, cross_val_score, GridSearchCV\n",
    "from sklearn.metrics import accuracy_score, silhouette_score\n",
    "from sklearn.preprocessing import StandardScaler\n",
    "from sklearn.decomposition import PCA\n",
    "# from imblearn.over_sampling import SMOTE\n",
    "from sklearn.impute import KNNImputer\n",
    "import matplotlib.pyplot as plt\n",
    "import warnings\n",
    "warnings.filterwarnings('ignore')"
   ]
  },
  {
   "cell_type": "markdown",
   "id": "fc6810d4",
   "metadata": {},
   "source": [
    "### Basic data inspection"
   ]
  },
  {
   "cell_type": "code",
   "execution_count": 8,
   "id": "58c3b81c",
   "metadata": {},
   "outputs": [
    {
     "name": "stdout",
     "output_type": "stream",
     "text": [
      "Dataset Shape: (768, 9)\n",
      "\n",
      "First 5 rows:\n",
      "    Pregnancies  Glucose  BloodPressure  SkinThickness  Insulin   BMI  \\\n",
      "0            6      148             72             35        0  33.6   \n",
      "1            1       85             66             29        0  26.6   \n",
      "2            8      183             64              0        0  23.3   \n",
      "3            1       89             66             23       94  28.1   \n",
      "4            0      137             40             35      168  43.1   \n",
      "\n",
      "   DiabetesPedigreeFunction  Age  Outcome  \n",
      "0                     0.627   50        1  \n",
      "1                     0.351   31        0  \n",
      "2                     0.672   32        1  \n",
      "3                     0.167   21        0  \n",
      "4                     2.288   33        1  \n",
      "\n",
      "Missing Values (Zeros):\n",
      " Pregnancies                 111\n",
      "Glucose                       5\n",
      "BloodPressure                35\n",
      "SkinThickness               227\n",
      "Insulin                     374\n",
      "BMI                          11\n",
      "DiabetesPedigreeFunction      0\n",
      "Age                           0\n",
      "Outcome                     500\n",
      "dtype: int64\n",
      "\n",
      "Class Distribution:\n",
      " Outcome\n",
      "0    0.651042\n",
      "1    0.348958\n",
      "Name: proportion, dtype: float64\n"
     ]
    }
   ],
   "source": [
    "# Load the Pima Indians Diabetes dataset        \n",
    "data = pd.read_csv('Pima-Indian-Dataset.csv')\n",
    "# Basic data inspection\n",
    "print(\"Dataset Shape:\", data.shape)\n",
    "print(\"\\nFirst 5 rows:\\n\", data.head())\n",
    "print(\"\\nMissing Values (Zeros):\\n\", data.eq(0).sum())\n",
    "print(\"\\nClass Distribution:\\n\", data['Outcome'].value_counts(normalize=True))"
   ]
  },
  {
   "cell_type": "markdown",
   "id": "8af2a68c",
   "metadata": {},
   "source": [
    "### Preprocessing Section"
   ]
  },
  {
   "cell_type": "code",
   "execution_count": null,
   "id": "7dc7074a",
   "metadata": {},
   "outputs": [
    {
     "name": "stdout",
     "output_type": "stream",
     "text": [
      "Number of components after PCA: 7\n",
      "Explained variance ratio: 0.9614\n",
      "Class Distribution:\n",
      "Outcome\n",
      "0    0.651466\n",
      "1    0.348534\n",
      "Name: proportion, dtype: float64\n"
     ]
    }
   ],
   "source": [
    "\n",
    "# Handle missing values (replace zeros with NaN and impute using KNNImputer)\n",
    "cols_with_zeros = ['Glucose', 'BloodPressure', 'SkinThickness', 'Insulin', 'BMI']\n",
    "data[cols_with_zeros] = data[cols_with_zeros].replace(0, np.nan)\n",
    "imputer = KNNImputer(n_neighbors=5)\n",
    "data[cols_with_zeros] = imputer.fit_transform(data[cols_with_zeros])\n",
    "\n",
    "# Separate features and target\n",
    "X = data.drop('Outcome', axis=1)\n",
    "y = data['Outcome']\n",
    "\n",
    "# Scale the features\n",
    "scaler = StandardScaler()\n",
    "X_scaled = scaler.fit_transform(X)\n",
    "\n",
    "# Apply PCA for dimensionality reduction\n",
    "pca = PCA(n_components=0.95)\n",
    "X_pca = pca.fit_transform(X_scaled)\n",
    "\n",
    "# Split the data into training and test sets (80:20 as per article)\n",
    "X_train, X_test, y_train, y_test = train_test_split(X_pca, y, test_size=0.2, random_state=42, stratify=y)\n",
    "\n",
    "print(f\"Number of components after PCA: {X_pca.shape[1]}\")\n",
    "print(f\"Explained variance ratio: {pca.explained_variance_ratio_.sum():.4f}\")\n",
    "print(\"Class Distribution:\")\n",
    "print(y_train.value_counts(normalize=True))"
   ]
  },
  {
   "cell_type": "code",
   "execution_count": null,
   "id": "caa26855",
   "metadata": {},
   "outputs": [
    {
     "name": "stdout",
     "output_type": "stream",
     "text": [
      "Optimal K for KMeans: 35\n",
      "Optimal K for KMeans_PCA: 35\n",
      "Optimal K for MiniBatchKMeans: 45\n",
      "Optimal K for Spectral: 48\n",
      "KMeans KNN Error Rate: 24.03% (Best k: 30)\n",
      "KMeans_PCA KNN Error Rate: 24.03% (Best k: 30)\n",
      "MiniBatchKMeans KNN Error Rate: 26.62% (Best k: 30)\n",
      "Spectral KNN Error Rate: 27.92% (Best k: 25)\n",
      "BIRCH KNN Error Rate: 26.62% (Best k: 30)\n",
      "\n",
      "10-Fold Cross-Validation Error Rates:\n",
      "KMeans KNN 10-Fold CV Error Rate: 24.42%\n",
      "KMeans_PCA KNN 10-Fold CV Error Rate: 24.42%\n",
      "MiniBatchKMeans KNN 10-Fold CV Error Rate: 24.42%\n",
      "Spectral KNN 10-Fold CV Error Rate: 23.78%\n",
      "BIRCH KNN 10-Fold CV Error Rate: 24.42%\n"
     ]
    },
    {
     "data": {
      "image/png": "[encoded data removed]",
      "text/plain": [
       "<Figure size 1000x500 with 1 Axes>"
      ]
     },
     "metadata": {},
     "output_type": "display_data"
    }
   ],
   "source": [
    "# Define clustering methods from Table II\n",
    "clustering_methods = {\n",
    "    'KMeans': KMeans(random_state=42),\n",
    "    'KMeans_PCA': KMeans(random_state=42),\n",
    "    'MiniBatchKMeans': MiniBatchKMeans(random_state=42, batch_size=100),\n",
    "    'Spectral': SpectralClustering(random_state=42, affinity='nearest_neighbors'),\n",
    "    'BIRCH': Birch(n_clusters=None)\n",
    "}\n",
    "\n",
    "# Step 1: Determine optimal number of clusters\n",
    "optimal_k = {}\n",
    "for name, model in clustering_methods.items():\n",
    "    if name == 'BIRCH':\n",
    "        optimal_k[name] = None\n",
    "        continue\n",
    "    silhouette_scores = []\n",
    "    for k in range(20, 51):\n",
    "        model.set_params(n_clusters=k)\n",
    "        labels = model.fit_predict(X_train)\n",
    "        score = silhouette_score(X_train, labels)\n",
    "        silhouette_scores.append((k, score))\n",
    "    optimal_k[name] = max(silhouette_scores, key=lambda x: x[1])[0]\n",
    "    print(f\"Optimal K for {name}: {optimal_k[name]}\")\n",
    "\n",
    "# Step 2: Commission selection and KNN classification\n",
    "knn_results = {}\n",
    "for name, model in clustering_methods.items():\n",
    "    if name == 'BIRCH':\n",
    "        model.fit(X_train)\n",
    "        labels = model.labels_\n",
    "        centroids = np.array([X_train[labels == i].mean(axis=0) for i in np.unique(labels)])\n",
    "    elif name == 'Spectral':\n",
    "        model.set_params(n_clusters=optimal_k[name])\n",
    "        model.fit(X_train)\n",
    "        labels = model.labels_\n",
    "        centroids = np.array([X_train[labels == i].mean(axis=0) for i in np.unique(labels)])\n",
    "    else:\n",
    "        model.set_params(n_clusters=optimal_k[name])\n",
    "        model.fit(X_train)\n",
    "        labels = model.labels_\n",
    "        centroids = model.cluster_centers_\n",
    "\n",
    "    # Select commissions (closest to centroids, 50% of each cluster)\n",
    "    commissions = []\n",
    "    for cluster_id in np.unique(labels):\n",
    "        cluster_indices = np.where(labels == cluster_id)[0]\n",
    "        if len(cluster_indices) == 0:\n",
    "            continue\n",
    "        cluster_data = X_train[cluster_indices]\n",
    "        centroid = centroids[cluster_id]\n",
    "        distances = np.linalg.norm(cluster_data - centroid, axis=1)\n",
    "        n_samples = max(1, len(cluster_indices) // 2)\n",
    "        selected_indices = cluster_indices[np.argsort(distances)[:n_samples]]\n",
    "        commissions.extend(selected_indices)\n",
    "\n",
    "    X_train_commissions = X_train[commissions]\n",
    "    y_train_commissions = y_train.iloc[commissions]\n",
    "\n",
    "    # KNN with GridSearch for optimal k, using weights='distance'\n",
    "    knn = KNeighborsClassifier(weights='distance')\n",
    "    param_grid = {'n_neighbors': [3, 5, 7, 9, 11, 15, 20, 25, 30]}\n",
    "    grid_search = GridSearchCV(knn, param_grid, cv=10, scoring='accuracy')\n",
    "    grid_search.fit(X_train_commissions, y_train_commissions)\n",
    "\n",
    "    # Evaluate on test set\n",
    "    y_pred = grid_search.predict(X_test)\n",
    "    accuracy = accuracy_score(y_test, y_pred)\n",
    "    error_rate = 100 * (1 - accuracy)\n",
    "    knn_results[name] = {'error_rate': error_rate, 'best_k': grid_search.best_params_['n_neighbors']}\n",
    "    print(f\"{name} KNN Error Rate: {error_rate:.2f}% (Best k: {grid_search.best_params_['n_neighbors']})\")\n",
    "\n",
    "# Step 3: 10-Fold Cross-Validation\n",
    "print(\"\\n10-Fold Cross-Validation Error Rates:\")\n",
    "for name, result in knn_results.items():\n",
    "    knn = KNeighborsClassifier(n_neighbors=result['best_k'], weights='distance')\n",
    "    scores = cross_val_score(knn, X_train, y_train, cv=10, scoring='accuracy')\n",
    "    error_rate_cv = 100 * (1 - scores.mean())\n",
    "    knn_results[name]['cv_error_rate'] = error_rate_cv\n",
    "    print(f\"{name} KNN 10-Fold CV Error Rate: {error_rate_cv:.2f}%\")\n",
    "\n",
    "# Step 4: Visualize results\n",
    "results = knn_results\n",
    "labels = list(results.keys())\n",
    "error_rates = [results[name]['error_rate'] for name in labels]\n",
    "cv_error_rates = [results[name]['cv_error_rate'] for name in labels]\n",
    "\n",
    "plt.figure(figsize=(10, 5))\n",
    "x = np.arange(len(labels))\n",
    "width = 0.35\n",
    "plt.bar(x - width/2, error_rates, width, label='Test Error Rate', color='#36A2EB')\n",
    "plt.bar(x + width/2, cv_error_rates, width, label='10-Fold CV Error Rate', color='#FF6384')\n",
    "plt.xlabel('Method')\n",
    "plt.ylabel('Error rate(%)')\n",
    "plt.xticks(x, labels)\n",
    "plt.legend()\n",
    "plt.tight_layout()\n",
    "plt.show()"
   ]
  }
 ],
 "metadata": {
  "kernelspec": {
   "display_name": ".venv",
   "language": "python",
   "name": "python3"
  },
  "language_info": {
   "codemirror_mode": {
    "name": "ipython",
    "version": 3
   },
   "file_extension": ".py",
   "mimetype": "text/x-python",
   "name": "python",
   "nbconvert_exporter": "python",
   "pygments_lexer": "ipython3",
   "version": "3.12.3"
  }
 },
 "nbformat": 4,
 "nbformat_minor": 5
}
